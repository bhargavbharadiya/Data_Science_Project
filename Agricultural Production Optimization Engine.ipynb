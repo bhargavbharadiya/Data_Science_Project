{
 "cells": [
  {
   "cell_type": "code",
   "execution_count": 2,
   "metadata": {},
   "outputs": [],
   "source": [
    "# import library\n",
    "import numpy as np \n",
    "import pandas as pd\n",
    "\n",
    "# for visualization library\n",
    "import matplotlib.pyplot as plt\n",
    "import seaborn as sns\n",
    "\n",
    "# for iteractivity\n",
    "from ipywidgets import interact"
   ]
  },
  {
   "cell_type": "code",
   "execution_count": 3,
   "metadata": {},
   "outputs": [
    {
     "name": "stdout",
     "output_type": "stream",
     "text": [
      "shape of the  dataset  (2200, 8)\n"
     ]
    }
   ],
   "source": [
    "# lets read the dataset\n",
    "data=pd.read_csv(\"data.csv\")\n",
    "print(\"shape of the  dataset \",data.shape)"
   ]
  },
  {
   "cell_type": "code",
   "execution_count": 4,
   "metadata": {},
   "outputs": [
    {
     "data": {
      "text/html": [
       "<div>\n",
       "<style scoped>\n",
       "    .dataframe tbody tr th:only-of-type {\n",
       "        vertical-align: middle;\n",
       "    }\n",
       "\n",
       "    .dataframe tbody tr th {\n",
       "        vertical-align: top;\n",
       "    }\n",
       "\n",
       "    .dataframe thead th {\n",
       "        text-align: right;\n",
       "    }\n",
       "</style>\n",
       "<table border=\"1\" class=\"dataframe\">\n",
       "  <thead>\n",
       "    <tr style=\"text-align: right;\">\n",
       "      <th></th>\n",
       "      <th>N</th>\n",
       "      <th>P</th>\n",
       "      <th>K</th>\n",
       "      <th>temperature</th>\n",
       "      <th>humidity</th>\n",
       "      <th>ph</th>\n",
       "      <th>rainfall</th>\n",
       "      <th>label</th>\n",
       "    </tr>\n",
       "  </thead>\n",
       "  <tbody>\n",
       "    <tr>\n",
       "      <th>0</th>\n",
       "      <td>90</td>\n",
       "      <td>42</td>\n",
       "      <td>43</td>\n",
       "      <td>20.879744</td>\n",
       "      <td>82.002744</td>\n",
       "      <td>6.502985</td>\n",
       "      <td>202.935536</td>\n",
       "      <td>rice</td>\n",
       "    </tr>\n",
       "    <tr>\n",
       "      <th>1</th>\n",
       "      <td>85</td>\n",
       "      <td>58</td>\n",
       "      <td>41</td>\n",
       "      <td>21.770462</td>\n",
       "      <td>80.319644</td>\n",
       "      <td>7.038096</td>\n",
       "      <td>226.655537</td>\n",
       "      <td>rice</td>\n",
       "    </tr>\n",
       "    <tr>\n",
       "      <th>2</th>\n",
       "      <td>60</td>\n",
       "      <td>55</td>\n",
       "      <td>44</td>\n",
       "      <td>23.004459</td>\n",
       "      <td>82.320763</td>\n",
       "      <td>7.840207</td>\n",
       "      <td>263.964248</td>\n",
       "      <td>rice</td>\n",
       "    </tr>\n",
       "    <tr>\n",
       "      <th>3</th>\n",
       "      <td>74</td>\n",
       "      <td>35</td>\n",
       "      <td>40</td>\n",
       "      <td>26.491096</td>\n",
       "      <td>80.158363</td>\n",
       "      <td>6.980401</td>\n",
       "      <td>242.864034</td>\n",
       "      <td>rice</td>\n",
       "    </tr>\n",
       "    <tr>\n",
       "      <th>4</th>\n",
       "      <td>78</td>\n",
       "      <td>42</td>\n",
       "      <td>42</td>\n",
       "      <td>20.130175</td>\n",
       "      <td>81.604873</td>\n",
       "      <td>7.628473</td>\n",
       "      <td>262.717340</td>\n",
       "      <td>rice</td>\n",
       "    </tr>\n",
       "  </tbody>\n",
       "</table>\n",
       "</div>"
      ],
      "text/plain": [
       "    N   P   K  temperature   humidity        ph    rainfall label\n",
       "0  90  42  43    20.879744  82.002744  6.502985  202.935536  rice\n",
       "1  85  58  41    21.770462  80.319644  7.038096  226.655537  rice\n",
       "2  60  55  44    23.004459  82.320763  7.840207  263.964248  rice\n",
       "3  74  35  40    26.491096  80.158363  6.980401  242.864034  rice\n",
       "4  78  42  42    20.130175  81.604873  7.628473  262.717340  rice"
      ]
     },
     "execution_count": 4,
     "metadata": {},
     "output_type": "execute_result"
    }
   ],
   "source": [
    "# first and rows in the data set\n",
    "data.head()"
   ]
  },
  {
   "cell_type": "code",
   "execution_count": 5,
   "metadata": {},
   "outputs": [
    {
     "data": {
      "text/plain": [
       "N              0\n",
       "P              0\n",
       "K              0\n",
       "temperature    0\n",
       "humidity       0\n",
       "ph             0\n",
       "rainfall       0\n",
       "label          0\n",
       "dtype: int64"
      ]
     },
     "execution_count": 5,
     "metadata": {},
     "output_type": "execute_result"
    }
   ],
   "source": [
    "# check the missing value in the dataset\n",
    "data.isnull().sum()"
   ]
  },
  {
   "cell_type": "code",
   "execution_count": 6,
   "metadata": {},
   "outputs": [
    {
     "data": {
      "text/plain": [
       "rice           100\n",
       "maize          100\n",
       "jute           100\n",
       "cotton         100\n",
       "coconut        100\n",
       "papaya         100\n",
       "orange         100\n",
       "apple          100\n",
       "muskmelon      100\n",
       "watermelon     100\n",
       "grapes         100\n",
       "mango          100\n",
       "banana         100\n",
       "pomegranate    100\n",
       "lentil         100\n",
       "blackgram      100\n",
       "mungbean       100\n",
       "mothbeans      100\n",
       "pigeonpeas     100\n",
       "kidneybeans    100\n",
       "chickpea       100\n",
       "coffee         100\n",
       "Name: label, dtype: int64"
      ]
     },
     "execution_count": 6,
     "metadata": {},
     "output_type": "execute_result"
    }
   ],
   "source": [
    " # check the crops present in this dataset\n",
    " data['label'].value_counts()"
   ]
  },
  {
   "cell_type": "code",
   "execution_count": 7,
   "metadata": {},
   "outputs": [
    {
     "name": "stdout",
     "output_type": "stream",
     "text": [
      "Average  of Nitrogen  :50.551818\n",
      "Average  of Phosphorous  :53.362727\n",
      "Average  of potassium:48.149091\n",
      "Average  of Tempature  :25.616244\n",
      "Average  of Relative Humidity  :71.481779\n",
      "Average  of Relative ph  :6.469480\n",
      "Average  of Relative Rainfalt  :103.463655\n"
     ]
    }
   ],
   "source": [
    "# avrage of all \n",
    "print(\"Average  of Nitrogen  :{0:2f}\".format(data['N'].mean()))\n",
    "print(\"Average  of Phosphorous  :{0:2f}\".format(data['P'].mean()))\n",
    "print(\"Average  of potassium:{0:2f}\" .format(data['K'].mean()))\n",
    "print(\"Average  of Tempature  :{0:2f}\".format(data['temperature'].mean()))\n",
    "print(\"Average  of Relative Humidity  :{0:2f}\".format(data['humidity'].mean()))\n",
    "print(\"Average  of Relative ph  :{0:2f}\".format(data['ph'].mean()))\n",
    "print(\"Average  of Relative Rainfalt  :{0:2f}\".format(data['rainfall'].mean()))"
   ]
  },
  {
   "cell_type": "code",
   "execution_count": 8,
   "metadata": {},
   "outputs": [
    {
     "name": "stdout",
     "output_type": "stream",
     "text": [
      "--------------------------------------------------------------\n",
      "statistical for Nitrogen\n",
      "Minimum Nitrogen requied : 60\n",
      "Average Nitrogen requied : 79.89\n",
      "Maximum Nitrogen requied : 99\n",
      "--------------------------------------------------------------\n",
      "statistical for Phosphorous\n",
      "Minimum Phosphorous requied : 35\n",
      "Average Phosphorous requied : 47.58\n",
      "Maximum Phosphorous requied : 60\n",
      "--------------------------------------------------------------\n",
      "statistical for Potassium\n",
      "Minimum Potassium requied : 35\n",
      "Average Potassium requied : 39.87\n",
      "Maximum Potassium requied : 45\n",
      "--------------------------------------------------------------\n",
      "statistical for Temperature\n",
      "Minimum Temperature requied :20.045414\n",
      "Average Temperature requied :23.689332\n",
      "Maximum Temperature requied :26.929951\n",
      "--------------------------------------------------------------\n",
      "statistical for Humidity\n",
      "Minimum Humidity requied :80.122675\n",
      "Average Humidity requied :82.272822\n",
      "Maximum Humidity requied :84.969072\n",
      "--------------------------------------------------------------\n",
      "statistical for ph\n",
      "Minimum ph requied :5.005307\n",
      "Average ph requied :6.425471\n",
      "Maximum ph requied :7.868475\n",
      "--------------------------------------------------------------\n",
      "statistical for rainfall\n",
      "Minimum rainfall requied :182.561632\n",
      "Average rainfall requied :236.181114\n",
      "Maximum rainfall requied :298.560117\n"
     ]
    }
   ],
   "source": [
    "# lets check the summary statistics for each of the crops\n",
    "\n",
    "@interact\n",
    "def summary(crops = list(data['label'].value_counts().index)):\n",
    "    x=data[data['label'] == crops]\n",
    "\n",
    "    print(\"--------------------------------------------------------------\")\n",
    "    print(\"statistical for Nitrogen\")\n",
    "    print(\"Minimum Nitrogen requied :\",x['N'].min())\n",
    "    print(\"Average Nitrogen requied :\",x['N'].mean())\n",
    "    print(\"Maximum Nitrogen requied :\",x['N'].max())\n",
    "\n",
    "    \n",
    "    print(\"--------------------------------------------------------------\")\n",
    "    print(\"statistical for Phosphorous\")\n",
    "    print(\"Minimum Phosphorous requied :\",x['P'].min())\n",
    "    print(\"Average Phosphorous requied :\",x['P'].mean())\n",
    "    print(\"Maximum Phosphorous requied :\",x['P'].max())\n",
    "\n",
    "    print(\"--------------------------------------------------------------\")\n",
    "    print(\"statistical for Potassium\")\n",
    "    print(\"Minimum Potassium requied :\",x['K'].min())\n",
    "    print(\"Average Potassium requied :\",x['K'].mean())\n",
    "    print(\"Maximum Potassium requied :\",x['K'].max())\n",
    "\n",
    "    \n",
    "    print(\"--------------------------------------------------------------\")\n",
    "    print(\"statistical for Temperature\")\n",
    "    print(\"Minimum Temperature requied :{0:2f}\".format(x['temperature'].min()))\n",
    "    print(\"Average Temperature requied :{0:2f}\".format(x['temperature'].mean()))\n",
    "    print(\"Maximum Temperature requied :{0:2f}\".format(x['temperature'].max()))\n",
    "\n",
    "\n",
    "    print(\"--------------------------------------------------------------\")\n",
    "    print(\"statistical for Humidity\")\n",
    "    print(\"Minimum Humidity requied :{0:2f}\".format(x['humidity'].min()))\n",
    "    print(\"Average Humidity requied :{0:2f}\".format(x['humidity'].mean()))\n",
    "    print(\"Maximum Humidity requied :{0:2f}\".format(x['humidity'].max()))\n",
    "\n",
    "    \n",
    "    print(\"--------------------------------------------------------------\")\n",
    "    print(\"statistical for ph\")\n",
    "    print(\"Minimum ph requied :{0:2f}\".format(x['ph'].min()))\n",
    "    print(\"Average ph requied :{0:2f}\".format(x['ph'].mean()))\n",
    "    print(\"Maximum ph requied :{0:2f}\".format(x['ph'].max()))\n",
    "\n",
    "    \n",
    "    \n",
    "    print(\"--------------------------------------------------------------\")\n",
    "    print(\"statistical for rainfall\")\n",
    "    print(\"Minimum rainfall requied :{0:2f}\".format(x['rainfall'].min()))\n",
    "    print(\"Average rainfall requied :{0:2f}\".format(x['rainfall'].mean()))\n",
    "    print(\"Maximum rainfall requied :{0:2f}\".format(x['rainfall'].max()))"
   ]
  },
  {
   "cell_type": "code",
   "execution_count": 9,
   "metadata": {},
   "outputs": [
    {
     "name": "stdout",
     "output_type": "stream",
     "text": [
      " Average Value for N is 50.551818 \n",
      "----------------------------------------------------------\n",
      "Rice : 79.89\n",
      "maize: 77.76\n",
      "jute : 78.40\n",
      "cotton : 117.77\n",
      "coconut : 21.98\n",
      "papaya : 49.88\n",
      "orange : 19.58\n",
      "apple : 20.80\n",
      "muskmelon : 100.32\n",
      "watermelon : 99.42\n",
      "grapes : 23.18\n",
      "mango : 20.07\n",
      "banana : 100.23\n",
      "pomegranate : 18.87\n",
      "lentil : 18.77\n",
      "blackgram : 40.02\n",
      "mungbean : 20.99\n",
      "mothbeans : 21.44\n",
      "pigeonpeas : 20.73\n",
      "kidneybeans : 20.75\n",
      "chickpea : 40.09\n",
      "coffee : 101.20\n"
     ]
    }
   ],
   "source": [
    "# lets compare the avrage Requirement for each crops with average condition\n",
    "@interact\n",
    "def compare(condition =[ 'N','P','K','temperature','ph','humidity','rainfall']):\n",
    "    print(\" Average Value for\", condition,\"is {0:2f} \".format(data[condition].mean()))\n",
    "    print(\"----------------------------------------------------------\")\n",
    "    print(\"Rice : {0:.2f}\".format(data[data['label']=='rice'][condition].mean()))\n",
    "    print(\"maize: {0:.2f}\".format(data[data['label']=='maize'][condition].mean()))\n",
    "    print(\"jute : {0:.2f}\".format(data[data['label']=='jute'][condition].mean()))\n",
    "    print(\"cotton : {0:.2f}\".format(data[data['label']=='cotton'][condition].mean()))\n",
    "    print(\"coconut : {0:.2f}\".format(data[data['label']=='coconut'][condition].mean()))\n",
    "    print(\"papaya : {0:.2f}\".format(data[data['label']=='papaya'][condition].mean()))\n",
    "    print(\"orange : {0:.2f}\".format(data[data['label']=='orange'][condition].mean()))\n",
    "    print(\"apple : {0:.2f}\".format(data[data['label']=='apple'][condition].mean()))\n",
    "    print(\"muskmelon : {0:.2f}\".format(data[data['label']=='muskmelon'][condition].mean()))\n",
    "    print(\"watermelon : {0:.2f}\".format(data[data['label']=='watermelon'][condition].mean()))\n",
    "    print(\"grapes : {0:.2f}\".format(data[data['label']=='grapes'][condition].mean()))\n",
    "    print(\"mango : {0:.2f}\".format(data[data['label']=='mango'][condition].mean()))\n",
    "    print(\"banana : {0:.2f}\".format(data[data['label']=='banana'][condition].mean()))\n",
    "    print(\"pomegranate : {0:.2f}\".format(data[data['label']=='pomegranate'][condition].mean()))\n",
    "    print(\"lentil : {0:.2f}\".format(data[data['label']=='lentil'][condition].mean()))\n",
    "    print(\"blackgram : {0:.2f}\".format(data[data['label']=='blackgram'][condition].mean()))\n",
    "    print(\"mungbean : {0:.2f}\".format(data[data['label']=='mungbean'][condition].mean()))\n",
    "    print(\"mothbeans : {0:.2f}\".format(data[data['label']=='mothbeans'][condition].mean()))\n",
    "    print(\"pigeonpeas : {0:.2f}\".format(data[data['label']=='pigeonpeas'][condition].mean()))\n",
    "    print(\"kidneybeans : {0:.2f}\".format(data[data['label']=='kidneybeans'][condition].mean()))\n",
    "    print(\"chickpea : {0:.2f}\".format(data[data['label']=='chickpea'][condition].mean()))\n",
    "    print(\"coffee : {0:.2f}\".format(data[data['label']=='coffee'][condition].mean()))\n"
   ]
  },
  {
   "cell_type": "code",
   "execution_count": 10,
   "metadata": {},
   "outputs": [
    {
     "name": "stdout",
     "output_type": "stream",
     "text": [
      " Crops Requied greater than average  N \n",
      "\n",
      "['rice' 'maize' 'chickpea' 'blackgram' 'banana' 'watermelon' 'muskmelon'\n",
      " 'papaya' 'cotton' 'jute' 'coffee']\n",
      "---------------------------------------------------\n",
      " Crops Requied less than average N \n",
      "\n",
      "['chickpea' 'kidneybeans' 'pigeonpeas' 'mothbeans' 'mungbean' 'blackgram'\n",
      " 'lentil' 'pomegranate' 'mango' 'grapes' 'apple' 'orange' 'papaya'\n",
      " 'coconut']\n"
     ]
    }
   ],
   "source": [
    "# lets make this function intuitive\n",
    "\n",
    "@interact\n",
    "def compare(condition=['N','P','K','temperature','ph','humidity','rainfall']):\n",
    "    print(\" Crops Requied greater than average \",condition,'\\n')\n",
    "    print(data[data[condition]>data[condition].mean()]['label'].unique())\n",
    "    print(\"---------------------------------------------------\")\n",
    "    print(\" Crops Requied less than average\",condition,'\\n')\n",
    "    print(data[data[condition]<=data[condition].mean()]['label'].unique())"
   ]
  },
  {
   "cell_type": "code",
   "execution_count": 11,
   "metadata": {},
   "outputs": [
    {
     "data": {
      "image/png": "[encoded data removed]",
      "text/plain": [
       "<Figure size 360x360 with 1 Axes>"
      ]
     },
     "metadata": {
      "needs_background": "light"
     },
     "output_type": "display_data"
    },
    {
     "data": {
      "image/png": "[encoded data removed]",
      "text/plain": [
       "<Figure size 360x360 with 1 Axes>"
      ]
     },
     "metadata": {
      "needs_background": "light"
     },
     "output_type": "display_data"
    },
    {
     "data": {
      "image/png": "[encoded data removed]",
      "text/plain": [
       "<Figure size 360x360 with 1 Axes>"
      ]
     },
     "metadata": {
      "needs_background": "light"
     },
     "output_type": "display_data"
    },
    {
     "data": {
      "image/png": "[encoded data removed]",
      "text/plain": [
       "<Figure size 360x360 with 1 Axes>"
      ]
     },
     "metadata": {
      "needs_background": "light"
     },
     "output_type": "display_data"
    },
    {
     "data": {
      "image/png": "[encoded data removed]",
      "text/plain": [
       "<Figure size 360x360 with 1 Axes>"
      ]
     },
     "metadata": {
      "needs_background": "light"
     },
     "output_type": "display_data"
    },
    {
     "data": {
      "image/png": "[encoded data removed]",
      "text/plain": [
       "<Figure size 360x360 with 1 Axes>"
      ]
     },
     "metadata": {
      "needs_background": "light"
     },
     "output_type": "display_data"
    },
    {
     "data": {
      "image/png": "[encoded data removed]",
      "text/plain": [
       "<Figure size 360x360 with 1 Axes>"
      ]
     },
     "metadata": {
      "needs_background": "light"
     },
     "output_type": "display_data"
    }
   ],
   "source": [
    "# plt.subplot(2,4,1)\n",
    "sns.displot(data['N'],color ='lightgreen')\n",
    "plt.xlabel('Nitrogen', fontsize=12)\n",
    "plt.grid()\n",
    "\n",
    "# plt.subplot(2,4,2)\n",
    "sns.displot(data['P'],color ='darkgreen')\n",
    "plt.xlabel('Phosphorous', fontsize=12)\n",
    "plt.grid()\n",
    "\n",
    "# plt.subplot(2,4,3)\n",
    "sns.displot(data['K'],color ='lightblue')\n",
    "plt.xlabel('potassium', fontsize=12)\n",
    "plt.grid()\n",
    "\n",
    "# plt.subplot(2,4,4)\n",
    "sns.displot(data['temperature'],color ='darkblue')\n",
    "plt.xlabel('temperature', fontsize=12)\n",
    "plt.grid()\n",
    "\n",
    "# plt.subplot(2,4,5)\n",
    "sns.displot(data['rainfall'],color ='gray')\n",
    "plt.xlabel('Rainfall', fontsize=12)\n",
    "plt.grid()\n",
    "\n",
    "# plt.subplot(2,4,6)\n",
    "sns.displot(data['humidity'],color ='black')\n",
    "plt.xlabel('HUmidity', fontsize=12)\n",
    "plt.grid()\n",
    "\n",
    "# plt.subplot(2,4,7)\n",
    "sns.displot(data['ph'],color ='lightgreen')\n",
    "plt.xlabel('pH level', fontsize=12)\n",
    "plt.grid()\n",
    "\n",
    "plt.suptitle('Distribution for Agricaltural Condition',fontsize=20)\n",
    "plt.show()"
   ]
  },
  {
   "cell_type": "code",
   "execution_count": 12,
   "metadata": {},
   "outputs": [
    {
     "name": "stdout",
     "output_type": "stream",
     "text": [
      "Some Intersting patterns\n",
      "---------------------------------------------------\n",
      "Crops Which requires very high ratio of Nitrogen Content in soil: ['cotton']\n",
      "Crops Which requires very high ratio of Phosphorous content in soil: ['grapes' 'apple']\n",
      "Crops Which requires very high potassium: ['grapes' 'apple']\n",
      "Crops Which requires very high Rainfall: ['rice' 'papaya' 'coconut']\n",
      "Crops Which requires very low temperature: ['grapes']\n",
      "Crops Which requires very high temperature: ['grapes' 'papaya']\n",
      "Crops Which requires very LoW humidity: ['chickpea' 'kidneybeans']\n",
      "Crops Which requires very Low PH: ['mothbeans']\n",
      "Crops which requires very High PH: ['mothbeans']\n"
     ]
    }
   ],
   "source": [
    " # lets find out some interesting Facts\n",
    "\n",
    " print(\"Some Intersting patterns\")\n",
    " print(\"---------------------------------------------------\")\n",
    " print(\"Crops Which requires very high ratio of Nitrogen Content in soil:\",data[data['N']>120]['label'].unique())\n",
    " print(\"Crops Which requires very high ratio of Phosphorous content in soil:\",data[data['P']>100]['label'].unique())\n",
    " print(\"Crops Which requires very high potassium:\",data[data['K']>200]['label'].unique())\n",
    " print(\"Crops Which requires very high Rainfall:\",data[data['rainfall']>200]['label'].unique())\n",
    " print(\"Crops Which requires very low temperature:\",data[data['temperature']<10]['label'].unique())\n",
    " print(\"Crops Which requires very high temperature:\",data[data['temperature']>40]['label'].unique())\n",
    " print(\"Crops Which requires very LoW humidity:\",data[data['humidity']<20]['label'].unique())\n",
    " print(\"Crops Which requires very Low PH:\",data[data['ph']<4]['label'].unique())\n",
    " print(\"Crops which requires very High PH:\",data[data['ph']>9]['label'].unique())"
   ]
  },
  {
   "cell_type": "code",
   "execution_count": 13,
   "metadata": {},
   "outputs": [
    {
     "name": "stdout",
     "output_type": "stream",
     "text": [
      "Summer Crops\n",
      "['pigeonpeas' 'mothbeans' 'blackgram' 'mango' 'grapes' 'orange' 'papaya']\n",
      "-------------------------------------\n",
      "Winter Crops\n",
      "['maize' 'pigeonpeas' 'lentil' 'pomegranate' 'grapes' 'orange']\n",
      "-------------------------------------\n",
      "Rainy Crops\n",
      "['rice' 'papaya' 'coconut']\n"
     ]
    }
   ],
   "source": [
    "# lets understand which crops can only be Grown in summer season,winter season, and rainy season\n",
    "\n",
    "print(\"Summer Crops\")\n",
    "print(data[(data['temperature']>30) &(data['humidity']>50)]['label'].unique())\n",
    "print(\"-------------------------------------\")\n",
    "print(\"Winter Crops\")\n",
    "print(data[(data['temperature']<20) &(data['humidity']>30)]['label'].unique())\n",
    "print(\"-------------------------------------\")\n",
    "print(\"Rainy Crops\")\n",
    "print(data[(data['rainfall']>200) & (data['humidity']>30)]['label'].unique())\n"
   ]
  },
  {
   "cell_type": "code",
   "execution_count": 25,
   "metadata": {},
   "outputs": [
    {
     "name": "stdout",
     "output_type": "stream",
     "text": [
      "shape of x (2200, 7)\n",
      "shape of y (2200,)\n"
     ]
    }
   ],
   "source": [
    "#lets split the dataset for predictive modelling\n",
    "X=data.drop(['label'],axis=1)\n",
    "Y=data['label']\n",
    "\n",
    "#checking the shape\n",
    "print(\"shape of x\",X.shape)\n",
    "print(\"shape of y\",Y.shape)\n",
    "#lets traning and testing of the dataset"
   ]
  },
  {
   "cell_type": "code",
   "execution_count": 30,
   "metadata": {},
   "outputs": [
    {
     "name": "stdout",
     "output_type": "stream",
     "text": [
      "The shape of the X_train (1760, 7)\n",
      "The shape of the X_test (440, 7)\n",
      "the shape of the Y_train (1760,)\n",
      "the shape of the Y_test (440,)\n"
     ]
    }
   ],
   "source": [
    "#lets traning and testing of the validation of results\n",
    "from sklearn.model_selection import train_test_split\n",
    "\n",
    "X_train,X_test,Y_train,Y_test = train_test_split(X,Y,test_size=0.2,random_state = 0)\n",
    "\n",
    "print(\"The shape of the X_train\",X_train.shape)\n",
    "print(\"The shape of the X_test\",X_test.shape)\n",
    "print(\"the shape of the Y_train\",Y_train.shape)\n",
    "print(\"the shape of the Y_test\",Y_test.shape)"
   ]
  },
  {
   "cell_type": "code",
   "execution_count": 39,
   "metadata": {},
   "outputs": [
    {
     "name": "stderr",
     "output_type": "stream",
     "text": [
      "C:\\Users\\bhara\\AppData\\Local\\Packages\\PythonSoftwareFoundation.Python.3.9_qbz5n2kfra8p0\\LocalCache\\local-packages\\Python39\\site-packages\\sklearn\\linear_model\\_logistic.py:444: ConvergenceWarning: lbfgs failed to converge (status=1):\n",
      "STOP: TOTAL NO. of ITERATIONS REACHED LIMIT.\n",
      "\n",
      "Increase the number of iterations (max_iter) or scale the data as shown in:\n",
      "    https://scikit-learn.org/stable/modules/preprocessing.html\n",
      "Please also refer to the documentation for alternative solver options:\n",
      "    https://scikit-learn.org/stable/modules/linear_model.html#logistic-regression\n",
      "  n_iter_i = _check_optimize_result(\n"
     ]
    }
   ],
   "source": [
    "# create the predictive model\n",
    "from sklearn.linear_model import LogisticRegression\n",
    "\n",
    "model = LogisticRegression()\n",
    "model.fit(X_train,Y_train)\n",
    "y_pred=model.predict(X_test)"
   ]
  },
  {
   "cell_type": "code",
   "execution_count": 57,
   "metadata": {},
   "outputs": [
    {
     "data": {
      "image/png": "[encoded data removed]",
      "text/plain": [
       "<Figure size 720x720 with 2 Axes>"
      ]
     },
     "metadata": {
      "needs_background": "light"
     },
     "output_type": "display_data"
    }
   ],
   "source": [
    "# the evalution of the modal performance\n",
    "from sklearn.metrics import confusion_matrix\n",
    "\n",
    "plt.rcParams['figure.figsize']=(10,10)\n",
    "cm=confusion_matrix(Y_test,y_pred)\n",
    "sns.heatmap(cm,annot=True,cmap='Wistia')\n",
    "plt.title('confusion matrix for logistic Regression',fontsize = 15)\n",
    "plt.show()\n"
   ]
  },
  {
   "cell_type": "code",
   "execution_count": 59,
   "metadata": {},
   "outputs": [
    {
     "name": "stdout",
     "output_type": "stream",
     "text": [
      "              precision    recall  f1-score   support\n",
      "\n",
      "       apple       1.00      1.00      1.00        18\n",
      "      banana       1.00      1.00      1.00        18\n",
      "   blackgram       0.86      0.82      0.84        22\n",
      "    chickpea       1.00      1.00      1.00        23\n",
      "     coconut       1.00      1.00      1.00        15\n",
      "      coffee       1.00      1.00      1.00        17\n",
      "      cotton       0.89      1.00      0.94        16\n",
      "      grapes       1.00      1.00      1.00        18\n",
      "        jute       0.84      1.00      0.91        21\n",
      " kidneybeans       1.00      1.00      1.00        20\n",
      "      lentil       0.94      0.94      0.94        17\n",
      "       maize       0.94      0.89      0.91        18\n",
      "       mango       1.00      1.00      1.00        21\n",
      "   mothbeans       0.88      0.92      0.90        25\n",
      "    mungbean       1.00      1.00      1.00        17\n",
      "   muskmelon       1.00      1.00      1.00        23\n",
      "      orange       1.00      1.00      1.00        23\n",
      "      papaya       1.00      0.95      0.98        21\n",
      "  pigeonpeas       1.00      1.00      1.00        22\n",
      " pomegranate       1.00      1.00      1.00        23\n",
      "        rice       1.00      0.84      0.91        25\n",
      "  watermelon       1.00      1.00      1.00        17\n",
      "\n",
      "    accuracy                           0.97       440\n",
      "   macro avg       0.97      0.97      0.97       440\n",
      "weighted avg       0.97      0.97      0.97       440\n",
      "\n"
     ]
    }
   ],
   "source": [
    "from sklearn.metrics import classification_report\n",
    "# classification report\n",
    "print(classification_report(Y_test,y_pred))\n"
   ]
  },
  {
   "cell_type": "code",
   "execution_count": 60,
   "metadata": {},
   "outputs": [
    {
     "data": {
      "text/html": [
       "<div>\n",
       "<style scoped>\n",
       "    .dataframe tbody tr th:only-of-type {\n",
       "        vertical-align: middle;\n",
       "    }\n",
       "\n",
       "    .dataframe tbody tr th {\n",
       "        vertical-align: top;\n",
       "    }\n",
       "\n",
       "    .dataframe thead th {\n",
       "        text-align: right;\n",
       "    }\n",
       "</style>\n",
       "<table border=\"1\" class=\"dataframe\">\n",
       "  <thead>\n",
       "    <tr style=\"text-align: right;\">\n",
       "      <th></th>\n",
       "      <th>N</th>\n",
       "      <th>P</th>\n",
       "      <th>K</th>\n",
       "      <th>temperature</th>\n",
       "      <th>humidity</th>\n",
       "      <th>ph</th>\n",
       "      <th>rainfall</th>\n",
       "      <th>label</th>\n",
       "    </tr>\n",
       "  </thead>\n",
       "  <tbody>\n",
       "    <tr>\n",
       "      <th>0</th>\n",
       "      <td>90</td>\n",
       "      <td>42</td>\n",
       "      <td>43</td>\n",
       "      <td>20.879744</td>\n",
       "      <td>82.002744</td>\n",
       "      <td>6.502985</td>\n",
       "      <td>202.935536</td>\n",
       "      <td>rice</td>\n",
       "    </tr>\n",
       "    <tr>\n",
       "      <th>1</th>\n",
       "      <td>85</td>\n",
       "      <td>58</td>\n",
       "      <td>41</td>\n",
       "      <td>21.770462</td>\n",
       "      <td>80.319644</td>\n",
       "      <td>7.038096</td>\n",
       "      <td>226.655537</td>\n",
       "      <td>rice</td>\n",
       "    </tr>\n",
       "    <tr>\n",
       "      <th>2</th>\n",
       "      <td>60</td>\n",
       "      <td>55</td>\n",
       "      <td>44</td>\n",
       "      <td>23.004459</td>\n",
       "      <td>82.320763</td>\n",
       "      <td>7.840207</td>\n",
       "      <td>263.964248</td>\n",
       "      <td>rice</td>\n",
       "    </tr>\n",
       "    <tr>\n",
       "      <th>3</th>\n",
       "      <td>74</td>\n",
       "      <td>35</td>\n",
       "      <td>40</td>\n",
       "      <td>26.491096</td>\n",
       "      <td>80.158363</td>\n",
       "      <td>6.980401</td>\n",
       "      <td>242.864034</td>\n",
       "      <td>rice</td>\n",
       "    </tr>\n",
       "    <tr>\n",
       "      <th>4</th>\n",
       "      <td>78</td>\n",
       "      <td>42</td>\n",
       "      <td>42</td>\n",
       "      <td>20.130175</td>\n",
       "      <td>81.604873</td>\n",
       "      <td>7.628473</td>\n",
       "      <td>262.717340</td>\n",
       "      <td>rice</td>\n",
       "    </tr>\n",
       "  </tbody>\n",
       "</table>\n",
       "</div>"
      ],
      "text/plain": [
       "    N   P   K  temperature   humidity        ph    rainfall label\n",
       "0  90  42  43    20.879744  82.002744  6.502985  202.935536  rice\n",
       "1  85  58  41    21.770462  80.319644  7.038096  226.655537  rice\n",
       "2  60  55  44    23.004459  82.320763  7.840207  263.964248  rice\n",
       "3  74  35  40    26.491096  80.158363  6.980401  242.864034  rice\n",
       "4  78  42  42    20.130175  81.604873  7.628473  262.717340  rice"
      ]
     },
     "execution_count": 60,
     "metadata": {},
     "output_type": "execute_result"
    }
   ],
   "source": [
    "data.head()"
   ]
  },
  {
   "cell_type": "code",
   "execution_count": 65,
   "metadata": {},
   "outputs": [
    {
     "name": "stdout",
     "output_type": "stream",
     "text": [
      " The suggested crops  for given climatic condition is: ['rice']\n"
     ]
    },
    {
     "name": "stderr",
     "output_type": "stream",
     "text": [
      "C:\\Users\\bhara\\AppData\\Local\\Packages\\PythonSoftwareFoundation.Python.3.9_qbz5n2kfra8p0\\LocalCache\\local-packages\\Python39\\site-packages\\sklearn\\base.py:450: UserWarning: X does not have valid feature names, but LogisticRegression was fitted with feature names\n",
      "  warnings.warn(\n"
     ]
    }
   ],
   "source": [
    "prediction=model.predict((np.array([[90,\n",
    "                                     40,\n",
    "                                     40,\n",
    "                                     20,\n",
    "                                     80,\n",
    "                                     7,\n",
    "                                     200]])))\n",
    "\n",
    "print(\" The suggested crops  for given climatic condition is:\",prediction)\n"
   ]
  }
 ],
 "metadata": {
  "kernelspec": {
   "display_name": "Python 3.9.13 64-bit (windows store)",
   "language": "python",
   "name": "python3"
  },
  "language_info": {
   "codemirror_mode": {
    "name": "ipython",
    "version": 3
   },
   "file_extension": ".py",
   "mimetype": "text/x-python",
   "name": "python",
   "nbconvert_exporter": "python",
   "pygments_lexer": "ipython3",
   "version": "3.9.13"
  },
  "orig_nbformat": 4,
  "vscode": {
   "interpreter": {
    "hash": "66f4b5b9f19482d1273689e212882ac9149f728faa85061ea731e7a3b05963f4"
   }
  }
 },
 "nbformat": 4,
 "nbformat_minor": 2
}
